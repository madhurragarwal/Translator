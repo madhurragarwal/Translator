{
 "cells": [
  {
   "cell_type": "markdown",
   "id": "85f39476-04f7-4c96-95a5-eb88015373cb",
   "metadata": {},
   "source": [
    "## Language Detection"
   ]
  },
  {
   "cell_type": "code",
   "execution_count": 1,
   "id": "e3370248-fb45-4bec-86c1-b658106daad0",
   "metadata": {},
   "outputs": [
    {
     "name": "stdout",
     "output_type": "stream",
     "text": [
      "Requirement already satisfied: langdetect in c:\\users\\madhu\\anaconda3\\lib\\site-packages (1.0.9)\n",
      "Requirement already satisfied: six in c:\\users\\madhu\\anaconda3\\lib\\site-packages (from langdetect) (1.16.0)\n"
     ]
    }
   ],
   "source": [
    "!pip install langdetect"
   ]
  },
  {
   "cell_type": "code",
   "execution_count": 2,
   "id": "f142371c-db48-4c7a-8a81-f2ec5f85a6cb",
   "metadata": {},
   "outputs": [
    {
     "name": "stdout",
     "output_type": "stream",
     "text": [
      "sw\n"
     ]
    }
   ],
   "source": [
    "from langdetect import detect\n",
    "\n",
    "sentence = \"Tanzania ni nchi inayoongoza kwa utalii barani afrika\"\n",
    "\n",
    "print(detect(sentence))"
   ]
  },
  {
   "cell_type": "code",
   "execution_count": 3,
   "id": "cb99f19b-abb9-4c75-aa03-94d898cec675",
   "metadata": {},
   "outputs": [
    {
     "name": "stdout",
     "output_type": "stream",
     "text": [
      "[sw:0.9999979321583436]\n"
     ]
    }
   ],
   "source": [
    "from langdetect import detect_langs\n",
    "\n",
    "sentence = \"Tanzania ni nchi inayoongoza kwa utalii barani afrika\"\n",
    "\n",
    "print(detect_langs(sentence))"
   ]
  },
  {
   "cell_type": "code",
   "execution_count": 4,
   "id": "b7ac24e7-1f75-4b28-ae8b-e75bad702199",
   "metadata": {},
   "outputs": [],
   "source": [
    "from langdetect import DetectorFactory\n",
    "DetectorFactory.seed = 0"
   ]
  },
  {
   "cell_type": "markdown",
   "id": "a174d57e-6085-432c-8027-e1cbd1635c9d",
   "metadata": {},
   "source": [
    "## Translation"
   ]
  },
  {
   "cell_type": "code",
   "execution_count": 5,
   "id": "1d358c60-39b7-45eb-8ea2-fef4fc79b69d",
   "metadata": {},
   "outputs": [
    {
     "name": "stdout",
     "output_type": "stream",
     "text": [
      "Requirement already satisfied: google_trans_new in c:\\users\\madhu\\anaconda3\\lib\\site-packages (1.1.9)\n"
     ]
    }
   ],
   "source": [
    "!pip install google_trans_new"
   ]
  },
  {
   "cell_type": "code",
   "execution_count": 6,
   "id": "746f60e9-9869-4dfd-92db-5275a26d5ca7",
   "metadata": {
    "scrolled": true
   },
   "outputs": [
    {
     "name": "stdout",
     "output_type": "stream",
     "text": [
      "Requirement already satisfied: deep-translator in c:\\users\\madhu\\anaconda3\\lib\\site-packages (1.11.4)\n",
      "Requirement already satisfied: beautifulsoup4<5.0.0,>=4.9.1 in c:\\users\\madhu\\anaconda3\\lib\\site-packages (from deep-translator) (4.12.2)\n",
      "Requirement already satisfied: requests<3.0.0,>=2.23.0 in c:\\users\\madhu\\anaconda3\\lib\\site-packages (from deep-translator) (2.31.0)\n",
      "Requirement already satisfied: soupsieve>1.2 in c:\\users\\madhu\\anaconda3\\lib\\site-packages (from beautifulsoup4<5.0.0,>=4.9.1->deep-translator) (2.5)\n",
      "Requirement already satisfied: charset-normalizer<4,>=2 in c:\\users\\madhu\\anaconda3\\lib\\site-packages (from requests<3.0.0,>=2.23.0->deep-translator) (2.0.4)\n",
      "Requirement already satisfied: idna<4,>=2.5 in c:\\users\\madhu\\anaconda3\\lib\\site-packages (from requests<3.0.0,>=2.23.0->deep-translator) (3.4)\n",
      "Requirement already satisfied: urllib3<3,>=1.21.1 in c:\\users\\madhu\\anaconda3\\lib\\site-packages (from requests<3.0.0,>=2.23.0->deep-translator) (2.0.7)\n",
      "Requirement already satisfied: certifi>=2017.4.17 in c:\\users\\madhu\\anaconda3\\lib\\site-packages (from requests<3.0.0,>=2.23.0->deep-translator) (2024.8.30)\n"
     ]
    }
   ],
   "source": [
    "!pip install -U deep-translator"
   ]
  },
  {
   "cell_type": "code",
   "execution_count": 7,
   "id": "cffb10bc-b449-4de1-9035-803315fdda97",
   "metadata": {},
   "outputs": [],
   "source": [
    "from deep_translator import GoogleTranslator"
   ]
  },
  {
   "cell_type": "code",
   "execution_count": 8,
   "id": "b643e57f-d11f-437a-8323-6d6340e294e2",
   "metadata": {},
   "outputs": [
    {
     "data": {
      "text/plain": [
       "'Good day'"
      ]
     },
     "execution_count": 8,
     "metadata": {},
     "output_type": "execute_result"
    }
   ],
   "source": [
    "GoogleTranslator(source='auto', target='en').translate(\"guten Tag\")"
   ]
  },
  {
   "cell_type": "code",
   "execution_count": 9,
   "id": "2d6998d9-0986-40a6-b350-7a0cde56399f",
   "metadata": {},
   "outputs": [],
   "source": [
    "#simple function to detect and translate text \n",
    "def detect_and_translate(text,target_lang):\n",
    "    \n",
    "    result_lang = detect(text)\n",
    "    \n",
    "    if result_lang == target_lang:\n",
    "        return text \n",
    "    \n",
    "    else:\n",
    "        translated = GoogleTranslator(source='auto', target=target_lang).translate(text=text)\n",
    "        return translated "
   ]
  },
  {
   "cell_type": "code",
   "execution_count": 10,
   "id": "74c83228-664a-436f-a805-232e5bf71bf7",
   "metadata": {},
   "outputs": [
    {
     "name": "stdout",
     "output_type": "stream",
     "text": [
      "Natumai kwamba, nitakapoweka akiba yangu, nitaweza kusafiri hadi Mexico\n"
     ]
    }
   ],
   "source": [
    "sentence = \"I hope that, when I've built up my savings, I'll be able to travel to Mexico\"\n",
    "\n",
    "print(detect_and_translate(sentence,target_lang='sw'))"
   ]
  },
  {
   "cell_type": "markdown",
   "id": "0ea16e3d-6b36-4510-85f0-94d211a0c83a",
   "metadata": {},
   "source": [
    "## Speech Recognition"
   ]
  },
  {
   "cell_type": "code",
   "execution_count": 11,
   "id": "f5f24b23-6d45-460d-9794-4a1b2fb49608",
   "metadata": {},
   "outputs": [
    {
     "name": "stdout",
     "output_type": "stream",
     "text": [
      "Requirement already satisfied: SpeechRecognition in c:\\users\\madhu\\anaconda3\\lib\\site-packages (3.10.4)\n",
      "Requirement already satisfied: requests>=2.26.0 in c:\\users\\madhu\\anaconda3\\lib\\site-packages (from SpeechRecognition) (2.31.0)\n",
      "Requirement already satisfied: typing-extensions in c:\\users\\madhu\\anaconda3\\lib\\site-packages (from SpeechRecognition) (4.9.0)\n",
      "Requirement already satisfied: charset-normalizer<4,>=2 in c:\\users\\madhu\\anaconda3\\lib\\site-packages (from requests>=2.26.0->SpeechRecognition) (2.0.4)\n",
      "Requirement already satisfied: idna<4,>=2.5 in c:\\users\\madhu\\anaconda3\\lib\\site-packages (from requests>=2.26.0->SpeechRecognition) (3.4)\n",
      "Requirement already satisfied: urllib3<3,>=1.21.1 in c:\\users\\madhu\\anaconda3\\lib\\site-packages (from requests>=2.26.0->SpeechRecognition) (2.0.7)\n",
      "Requirement already satisfied: certifi>=2017.4.17 in c:\\users\\madhu\\anaconda3\\lib\\site-packages (from requests>=2.26.0->SpeechRecognition) (2024.8.30)\n"
     ]
    }
   ],
   "source": [
    "!pip install SpeechRecognition"
   ]
  },
  {
   "cell_type": "code",
   "execution_count": 14,
   "id": "e5e19aa5-4b63-4488-8d40-633328c75c57",
   "metadata": {},
   "outputs": [
    {
     "name": "stdout",
     "output_type": "stream",
     "text": [
      "Collecting PyAudio\n",
      "  Downloading PyAudio-0.2.14-cp311-cp311-win_amd64.whl.metadata (2.7 kB)\n",
      "Downloading PyAudio-0.2.14-cp311-cp311-win_amd64.whl (164 kB)\n",
      "   ---------------------------------------- 0.0/164.1 kB ? eta -:--:--\n",
      "   ------- ------------------------------- 30.7/164.1 kB 660.6 kB/s eta 0:00:01\n",
      "   ---------------------- ----------------- 92.2/164.1 kB 1.3 MB/s eta 0:00:01\n",
      "   ---------------------------------------- 164.1/164.1 kB 1.6 MB/s eta 0:00:00\n",
      "Installing collected packages: PyAudio\n",
      "Successfully installed PyAudio-0.2.14\n",
      "Note: you may need to restart the kernel to use updated packages.\n"
     ]
    }
   ],
   "source": [
    "!pip install PyAudio"
   ]
  },
  {
   "cell_type": "code",
   "execution_count": 16,
   "id": "744ab9ea-7d2e-40d6-ac03-54866a998922",
   "metadata": {},
   "outputs": [
    {
     "name": "stdout",
     "output_type": "stream",
     "text": [
      "Say Something:\n",
      "Done!\n",
      "हेलो हेलो\n",
      "hello hello\n"
     ]
    }
   ],
   "source": [
    "import speech_recognition as sr\n",
    "\n",
    "r = sr.Recognizer()\n",
    "\n",
    "with sr.Microphone() as source:\n",
    "    print('Say Something:')\n",
    "    audio = r.listen(source)\n",
    "    print ('Done!')\n",
    "\n",
    "text = r.recognize_google(audio, language = 'hi-IN')\n",
    "\n",
    "print (text)\n",
    "\n",
    "print (r.recognize_google(audio))"
   ]
  },
  {
   "cell_type": "markdown",
   "id": "9ad4c6d0-98d0-4c26-aff4-26e409ca5f1b",
   "metadata": {},
   "source": [
    "# Translator"
   ]
  },
  {
   "cell_type": "code",
   "execution_count": 19,
   "id": "9ab79a9a-5f23-4dff-aab9-fefec0fc7fed",
   "metadata": {},
   "outputs": [
    {
     "name": "stdout",
     "output_type": "stream",
     "text": [
      "Say Something:\n",
      "Processing your speech...\n",
      "Recognized Speech: हेलो मैं 6 साल का हूं\n",
      "Translated Text: Hello I am 6 years old\n"
     ]
    }
   ],
   "source": [
    "import speech_recognition as sr\n",
    "from langdetect import detect\n",
    "from deep_translator import GoogleTranslator\n",
    "\n",
    "# Function to detect and translate text\n",
    "def detect_and_translate(text, target_lang):\n",
    "    # Detect the language of the input text\n",
    "    detected_lang = detect(text)\n",
    "    \n",
    "    # If the detected language matches the target language, return the original text\n",
    "    if detected_lang == target_lang:\n",
    "        return text\n",
    "    else:\n",
    "        # Translate the text if it doesn't match the target language\n",
    "        translated = GoogleTranslator(source='auto', target=target_lang).translate(text=text)\n",
    "        return translated\n",
    "\n",
    "# Function to recognize speech and translate the result\n",
    "def speech_to_text_and_translate(target_lang):\n",
    "    # Initialize recognizer\n",
    "    r = sr.Recognizer()\n",
    "\n",
    "    # Use the microphone to capture speech\n",
    "    with sr.Microphone() as source:\n",
    "        print('Say Something:')\n",
    "        audio = r.listen(source)\n",
    "        print('Processing your speech...')\n",
    "        \n",
    "    try:\n",
    "        # Convert speech to text (in Hindi, for example)\n",
    "        text = r.recognize_google(audio, language='hi-IN')  # You can change 'hi-IN' to your preferred language\n",
    "        print(f\"Recognized Speech: {text}\")\n",
    "        \n",
    "        # Detect the language and translate the text\n",
    "        translated_text = detect_and_translate(text, target_lang)\n",
    "        print(f\"Translated Text: {translated_text}\")\n",
    "        \n",
    "    except sr.UnknownValueError:\n",
    "        print(\"Sorry, I couldn't understand the audio.\")\n",
    "    except sr.RequestError as e:\n",
    "        print(f\"Could not request results; {e}\")\n",
    "\n",
    "# Example: Convert speech to text, then detect and translate to English\n",
    "speech_to_text_and_translate(target_lang='en')\n"
   ]
  }
 ],
 "metadata": {
  "kernelspec": {
   "display_name": "Python 3 (ipykernel)",
   "language": "python",
   "name": "python3"
  },
  "language_info": {
   "codemirror_mode": {
    "name": "ipython",
    "version": 3
   },
   "file_extension": ".py",
   "mimetype": "text/x-python",
   "name": "python",
   "nbconvert_exporter": "python",
   "pygments_lexer": "ipython3",
   "version": "3.11.7"
  }
 },
 "nbformat": 4,
 "nbformat_minor": 5
}
